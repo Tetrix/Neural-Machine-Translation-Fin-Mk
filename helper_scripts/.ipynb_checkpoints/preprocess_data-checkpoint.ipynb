{
 "cells": [
  {
   "cell_type": "code",
   "execution_count": 1,
   "metadata": {},
   "outputs": [],
   "source": [
    "import pandas as pd\n",
    "import numpy as np\n",
    "import re\n",
    "\n",
    "import nltk\n",
    "from nltk.tokenize import word_tokenize\n",
    "from nltk.corpus import stopwords\n",
    "from nltk.stem import PorterStemmer\n",
    "from nltk.probability import FreqDist\n",
    "from nltk.tokenize.treebank import TreebankWordDetokenizer"
   ]
  },
  {
   "cell_type": "code",
   "execution_count": 2,
   "metadata": {},
   "outputs": [
    {
     "data": {
      "text/html": [
       "<div>\n",
       "<style scoped>\n",
       "    .dataframe tbody tr th:only-of-type {\n",
       "        vertical-align: middle;\n",
       "    }\n",
       "\n",
       "    .dataframe tbody tr th {\n",
       "        vertical-align: top;\n",
       "    }\n",
       "\n",
       "    .dataframe thead th {\n",
       "        text-align: right;\n",
       "    }\n",
       "</style>\n",
       "<table border=\"1\" class=\"dataframe\">\n",
       "  <thead>\n",
       "    <tr style=\"text-align: right;\">\n",
       "      <th></th>\n",
       "      <th>finnish</th>\n",
       "      <th>macedonian</th>\n",
       "    </tr>\n",
       "  </thead>\n",
       "  <tbody>\n",
       "    <tr>\n",
       "      <th>0</th>\n",
       "      <td>chaplinin poika</td>\n",
       "      <td>чарли чаплин во детето</td>\n",
       "    </tr>\n",
       "    <tr>\n",
       "      <th>1</th>\n",
       "      <td>kuva hymyllä, ja ehkä kyyneleen kera.</td>\n",
       "      <td>слика со насмевка   и можеби, солза.</td>\n",
       "    </tr>\n",
       "    <tr>\n",
       "      <th>2</th>\n",
       "      <td>hyväntekeväisyyssairaala</td>\n",
       "      <td>добротворна болница</td>\n",
       "    </tr>\n",
       "    <tr>\n",
       "      <th>3</th>\n",
       "      <td>nainen, jonka synti oli äitiys.</td>\n",
       "      <td>жената   чии грев беше мајчинството.</td>\n",
       "    </tr>\n",
       "    <tr>\n",
       "      <th>4</th>\n",
       "      <td>mies.</td>\n",
       "      <td>мажот.</td>\n",
       "    </tr>\n",
       "  </tbody>\n",
       "</table>\n",
       "</div>"
      ],
      "text/plain": [
       "                                 finnish                            macedonian\n",
       "0                        chaplinin poika                чарли чаплин во детето\n",
       "1  kuva hymyllä, ja ehkä kyyneleen kera.  слика со насмевка   и можеби, солза.\n",
       "2               hyväntekeväisyyssairaala                   добротворна болница\n",
       "3        nainen, jonka synti oli äitiys.  жената   чии грев беше мајчинството.\n",
       "4                                  mies.                                мажот."
      ]
     },
     "execution_count": 2,
     "metadata": {},
     "output_type": "execute_result"
    }
   ],
   "source": [
    "df = pd.read_csv('../data/fin-mk.txt', sep='\\t')\n",
    "df.head()"
   ]
  },
  {
   "cell_type": "code",
   "execution_count": 3,
   "metadata": {},
   "outputs": [],
   "source": [
    "fin = df['finnish'].values\n",
    "mk = df['macedonian'].values"
   ]
  },
  {
   "cell_type": "code",
   "execution_count": 4,
   "metadata": {},
   "outputs": [],
   "source": [
    "fin_tok = df[\"finnish\"].fillna(\"\").map(nltk.word_tokenize).values\n",
    "mk_tok = df[\"macedonian\"].fillna(\"\").map(nltk.word_tokenize).values"
   ]
  },
  {
   "cell_type": "code",
   "execution_count": 5,
   "metadata": {},
   "outputs": [],
   "source": [
    "def remove_non_ascii(vocab):\n",
    "    data = []\n",
    "    temp = []\n",
    "    for sent in vocab:\n",
    "        for word in sent:\n",
    "            temp.append(re.sub(r'[^\\x00-\\x7f]',r'', word))\n",
    "        data.append(temp)\n",
    "        temp = []\n",
    "    return data\n",
    "\n",
    "# no_ascii_fin = remove_non_ascii(fin_tok)"
   ]
  },
  {
   "cell_type": "code",
   "execution_count": 6,
   "metadata": {},
   "outputs": [],
   "source": [
    "def remove_dash(vocab):\n",
    "    data = []\n",
    "    temp = []\n",
    "    for sent in vocab:\n",
    "        for word in sent:\n",
    "            temp.append(word.replace('-', ' '))\n",
    "        data.append(temp)\n",
    "        temp = []\n",
    "    return data\n",
    "\n",
    "clean_fin = remove_dash(fin_tok)\n",
    "clean_mk = remove_dash(mk_tok)"
   ]
  },
  {
   "cell_type": "code",
   "execution_count": 7,
   "metadata": {},
   "outputs": [],
   "source": [
    "def remove_three_dots(vocab):\n",
    "    data = []\n",
    "    temp = []\n",
    "    for sent in vocab:\n",
    "        for word in sent:\n",
    "            temp.append(word.replace('...', ''))\n",
    "        data.append(temp)\n",
    "        temp = []\n",
    "    return data\n",
    "\n",
    "clean_fin = remove_three_dots(clean_fin)\n",
    "clean_mk = remove_three_dots(clean_mk)"
   ]
  },
  {
   "cell_type": "code",
   "execution_count": 8,
   "metadata": {},
   "outputs": [],
   "source": [
    "def remove_two_dots(vocab):\n",
    "    data = []\n",
    "    temp = []\n",
    "    for sent in vocab:\n",
    "        for word in sent:\n",
    "            temp.append(word.replace('..', ''))\n",
    "        data.append(temp)\n",
    "        temp = []\n",
    "    return data\n",
    "\n",
    "clean_fin = remove_two_dots(clean_fin)\n",
    "clean_mk = remove_two_dots(clean_mk)"
   ]
  },
  {
   "cell_type": "code",
   "execution_count": 9,
   "metadata": {},
   "outputs": [],
   "source": [
    "def remove_dollar(vocab):\n",
    "    data = []\n",
    "    temp = []\n",
    "    for sent in vocab:\n",
    "        for word in sent:\n",
    "            temp.append(word.replace('$', ''))\n",
    "        data.append(temp)\n",
    "        temp = []\n",
    "    return data\n",
    "\n",
    "clean_fin = remove_dollar(clean_fin)\n",
    "clean_mk = remove_dollar(clean_mk)"
   ]
  },
  {
   "cell_type": "code",
   "execution_count": 10,
   "metadata": {},
   "outputs": [],
   "source": [
    "def remove_digits(vocab):\n",
    "    data = []\n",
    "    temp = []\n",
    "    for sent in vocab:\n",
    "        for word in sent:\n",
    "            temp.append(re.sub(r'\\d+', '', word))\n",
    "        data.append(temp)\n",
    "        temp = []\n",
    "    return data\n",
    "\n",
    "clean_fin = remove_digits(clean_fin)\n",
    "clean_mk = remove_digits(clean_mk)"
   ]
  },
  {
   "cell_type": "code",
   "execution_count": null,
   "metadata": {},
   "outputs": [],
   "source": []
  },
  {
   "cell_type": "code",
   "execution_count": 43,
   "metadata": {},
   "outputs": [],
   "source": [
    "def detokenize_data(vocab):\n",
    "    data = []\n",
    "    for sent in vocab:\n",
    "        data.append(TreebankWordDetokenizer().detokenize(sent))\n",
    "    return data\n",
    "\n",
    "final_fin = detokenize_data(clean_fin)\n",
    "final_mk = detokenize_data(clean_mk)"
   ]
  },
  {
   "cell_type": "code",
   "execution_count": 44,
   "metadata": {},
   "outputs": [
    {
     "data": {
      "text/plain": [
       "['kuva', 'hymyllä', ',', 'ja', 'ehkä', 'kyyneleen', 'kera', '.']"
      ]
     },
     "execution_count": 44,
     "metadata": {},
     "output_type": "execute_result"
    }
   ],
   "source": [
    "clean_fin[1]"
   ]
  },
  {
   "cell_type": "code",
   "execution_count": 45,
   "metadata": {},
   "outputs": [],
   "source": [
    "data = pd.DataFrame({'finnish': final_fin, 'macedonian': final_mk})\n",
    "data.to_csv('../data/fin-mk.txt', index=False, sep='\\t')"
   ]
  },
  {
   "cell_type": "code",
   "execution_count": null,
   "metadata": {},
   "outputs": [],
   "source": []
  }
 ],
 "metadata": {
  "kernelspec": {
   "display_name": "Python 3",
   "language": "python",
   "name": "python3"
  },
  "language_info": {
   "codemirror_mode": {
    "name": "ipython",
    "version": 3
   },
   "file_extension": ".py",
   "mimetype": "text/x-python",
   "name": "python",
   "nbconvert_exporter": "python",
   "pygments_lexer": "ipython3",
   "version": "3.6.8"
  }
 },
 "nbformat": 4,
 "nbformat_minor": 2
}
