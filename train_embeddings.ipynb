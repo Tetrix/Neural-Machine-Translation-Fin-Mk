{
 "cells": [
  {
   "cell_type": "code",
   "execution_count": 1,
   "metadata": {},
   "outputs": [],
   "source": [
    "import pandas as pd\n",
    "import numpy as np\n",
    "from gensim.models import Word2Vec\n",
    "import multiprocessing\n",
    "from nltk.tokenize import sent_tokenize, word_tokenize\n",
    "import nltk"
   ]
  },
  {
   "cell_type": "code",
   "execution_count": 2,
   "metadata": {},
   "outputs": [
    {
     "data": {
      "text/html": [
       "<div>\n",
       "<style scoped>\n",
       "    .dataframe tbody tr th:only-of-type {\n",
       "        vertical-align: middle;\n",
       "    }\n",
       "\n",
       "    .dataframe tbody tr th {\n",
       "        vertical-align: top;\n",
       "    }\n",
       "\n",
       "    .dataframe thead th {\n",
       "        text-align: right;\n",
       "    }\n",
       "</style>\n",
       "<table border=\"1\" class=\"dataframe\">\n",
       "  <thead>\n",
       "    <tr style=\"text-align: right;\">\n",
       "      <th></th>\n",
       "      <th>finnish</th>\n",
       "      <th>macedonian</th>\n",
       "    </tr>\n",
       "  </thead>\n",
       "  <tbody>\n",
       "    <tr>\n",
       "      <th>0</th>\n",
       "      <td>chaplinin poika</td>\n",
       "      <td>чарли чаплин во детето</td>\n",
       "    </tr>\n",
       "    <tr>\n",
       "      <th>1</th>\n",
       "      <td>kuva hymyll, ja ehk kyyneleen kera.</td>\n",
       "      <td>слика со насмевка   и можеби, солза.</td>\n",
       "    </tr>\n",
       "    <tr>\n",
       "      <th>2</th>\n",
       "      <td>hyvntekevisyyssairaala</td>\n",
       "      <td>добротворна болница</td>\n",
       "    </tr>\n",
       "    <tr>\n",
       "      <th>3</th>\n",
       "      <td>nainen, jonka synti oli itiys.</td>\n",
       "      <td>жената   чии грев беше мајчинството.</td>\n",
       "    </tr>\n",
       "    <tr>\n",
       "      <th>4</th>\n",
       "      <td>mies.</td>\n",
       "      <td>мажот.</td>\n",
       "    </tr>\n",
       "  </tbody>\n",
       "</table>\n",
       "</div>"
      ],
      "text/plain": [
       "                               finnish                            macedonian\n",
       "0                      chaplinin poika                чарли чаплин во детето\n",
       "1  kuva hymyll, ja ehk kyyneleen kera.  слика со насмевка   и можеби, солза.\n",
       "2               hyvntekevisyyssairaala                   добротворна болница\n",
       "3       nainen, jonka synti oli itiys.  жената   чии грев беше мајчинството.\n",
       "4                                mies.                                мажот."
      ]
     },
     "execution_count": 2,
     "metadata": {},
     "output_type": "execute_result"
    }
   ],
   "source": [
    "df = pd.read_csv('data/fin-mk.txt', sep='\\t')\n",
    "df.head()"
   ]
  },
  {
   "cell_type": "code",
   "execution_count": 3,
   "metadata": {},
   "outputs": [],
   "source": [
    "X = df['finnish'].values\n",
    "y = df['macedonian'].values"
   ]
  },
  {
   "cell_type": "code",
   "execution_count": 4,
   "metadata": {
    "scrolled": true
   },
   "outputs": [],
   "source": [
    "# fi_tok = [word_tokenize(sent) for sent in X]\n",
    "df[\"finnish_token\"] = df[\"finnish\"].fillna(\"\").map(nltk.word_tokenize)\n",
    "df[\"macedonian_token\"] = df[\"macedonian\"].fillna(\"\").map(nltk.word_tokenize)"
   ]
  },
  {
   "cell_type": "code",
   "execution_count": 5,
   "metadata": {},
   "outputs": [],
   "source": [
    "fin_tok = df[\"finnish_token\"].values\n",
    "mk_tok = df[\"macedonian_token\"].values"
   ]
  },
  {
   "cell_type": "code",
   "execution_count": 6,
   "metadata": {},
   "outputs": [],
   "source": [
    "fi_clean = []\n",
    "temp = []\n",
    "for i in fin_tok:\n",
    "    for j in i:\n",
    "        if j[0] == '-' and len(j) > 1:\n",
    "            print('da')\n",
    "            temp.append(j[1:])\n",
    "        elif j[-1] == '-' and len(j) > 1:\n",
    "            print('ne')\n",
    "            temp.append(j[:-1])\n",
    "        else:\n",
    "            temp.append(j)\n",
    "    fi_clean.append(temp)\n",
    "    temp = []"
   ]
  },
  {
   "cell_type": "code",
   "execution_count": 145,
   "metadata": {},
   "outputs": [],
   "source": [
    "mk_clean = []\n",
    "temp = []\n",
    "for i in mk_tok:\n",
    "    for j in i:\n",
    "        if j[0] == '-' and len(j) > 1:\n",
    "            temp.append(j[1:])\n",
    "        elif j[-1] == '-' and len(j) > 1:\n",
    "            temp.append(j[:-1])\n",
    "        else:\n",
    "            temp.append(j)\n",
    "    mk_clean.append(temp)\n",
    "    temp = []"
   ]
  },
  {
   "cell_type": "code",
   "execution_count": 7,
   "metadata": {},
   "outputs": [],
   "source": [
    "model_mk = Word2Vec(mk_tok, size=300, window=5, min_count=1, iter=10, workers=multiprocessing.cpu_count())"
   ]
  },
  {
   "cell_type": "code",
   "execution_count": 8,
   "metadata": {},
   "outputs": [],
   "source": [
    "model_fi = Word2Vec(fin_tok, size=300, window=5, min_count=1, iter=10, workers=multiprocessing.cpu_count())"
   ]
  },
  {
   "cell_type": "code",
   "execution_count": 9,
   "metadata": {},
   "outputs": [
    {
     "name": "stdout",
     "output_type": "stream",
     "text": [
      "ihmiskudos\n"
     ]
    }
   ],
   "source": [
    "words = list(model_fi.wv.vocab)\n",
    "for word in words:\n",
    "    if word == 'ihmiskudos':\n",
    "        print(word)"
   ]
  },
  {
   "cell_type": "code",
   "execution_count": 10,
   "metadata": {},
   "outputs": [
    {
     "name": "stderr",
     "output_type": "stream",
     "text": [
      "/work/modules/Ubuntu/14.04/amd64/common/anaconda3/latest/lib/python3.6/site-packages/ipykernel_launcher.py:1: DeprecationWarning: Call to deprecated `__getitem__` (Method will be removed in 4.0.0, use self.wv.__getitem__() instead).\n",
      "  \"\"\"Entry point for launching an IPython kernel.\n"
     ]
    },
    {
     "data": {
      "text/plain": [
       "array([ 0.36566305, -0.11955065, -0.61124164, -1.8410972 , -0.26028472,\n",
       "       -0.44562432, -0.19170971,  0.87342924,  0.47943276,  0.12454691,\n",
       "       -0.23919004,  0.21835719,  0.30332863, -0.29319543, -0.73331344,\n",
       "        1.3667077 ,  0.6276063 , -0.87395364, -0.9301904 , -0.6717533 ,\n",
       "       -0.38831457,  0.04456605, -0.08683205,  0.35810176,  0.7418917 ,\n",
       "        0.36847687,  0.21121079,  0.394285  ,  0.9477648 , -1.0800874 ,\n",
       "        0.00867191, -1.5411788 ,  0.28096277, -0.6304994 ,  0.04411799,\n",
       "       -0.95954365, -0.17963345,  0.66231245,  0.25188512, -0.2029736 ,\n",
       "        0.8979835 , -0.1751848 ,  0.22954947, -1.0121516 ,  0.8345671 ,\n",
       "       -0.7511575 , -0.10996038,  0.61484367, -0.42362297, -1.0690339 ,\n",
       "       -0.12424053,  0.4563241 ,  0.56175476,  0.45372677, -0.7052854 ,\n",
       "       -0.14764154, -0.30449826, -0.4085369 , -0.1750655 , -0.73473305,\n",
       "       -0.31553453,  0.66920114,  0.5406773 ,  0.50583893, -0.75967664,\n",
       "        1.1977465 , -0.2211826 , -1.1034344 ,  0.33568642,  0.70237994,\n",
       "       -0.03008432,  0.73247445,  0.28312773,  0.10050467,  0.23202701,\n",
       "        0.8654264 ,  0.10683067,  0.8806079 , -0.24346457, -0.5731566 ,\n",
       "       -0.93490297, -0.8994859 ,  0.09392831,  0.85682696,  0.7330522 ,\n",
       "        0.09410986,  0.4880735 , -1.1160455 ,  0.7722038 , -0.10741612,\n",
       "       -0.46137732, -0.5115507 ,  0.174145  , -0.59225243, -0.28853473,\n",
       "        0.27847174,  0.23100875, -0.31382248,  0.7423886 ,  1.1266768 ,\n",
       "       -0.77578914,  0.18023191, -0.5612672 , -1.2152903 ,  0.54259866,\n",
       "       -0.08702388,  0.6123077 , -0.32173705,  0.3772572 ,  0.05151763,\n",
       "        0.5050048 , -1.2197704 , -0.5013406 ,  0.25187805, -0.7001572 ,\n",
       "        0.11746853,  0.717954  , -0.717745  ,  1.4147401 ,  0.16833131,\n",
       "        0.41676635,  0.76437056,  0.36159757,  0.6001424 ,  1.1088637 ,\n",
       "       -0.16858628,  0.4317819 ,  0.8467863 ,  0.55069774,  1.4255902 ,\n",
       "       -0.70986706,  0.46959165,  0.77204466,  0.44540504,  0.16658758,\n",
       "        0.53331345, -0.02391933,  1.5946144 ,  1.0568488 ,  0.7480384 ,\n",
       "        0.25096053, -0.88867056, -2.0742621 ,  0.5213679 , -1.1669703 ,\n",
       "        0.08870181,  0.0744857 ,  0.49210367,  1.3799995 ,  0.96139956,\n",
       "        0.06022315,  0.654163  ,  0.5248038 , -1.7381787 , -0.50257987,\n",
       "       -0.84368485, -1.154793  ,  0.66647416, -0.10877219,  0.13883175,\n",
       "        0.85563517,  0.06179204, -0.5422988 , -0.31862468, -0.29588696,\n",
       "        0.02913482, -0.02990161, -0.7518844 , -0.24649444,  0.09001809,\n",
       "       -0.38936546,  0.79337907,  0.5092232 ,  0.3345511 ,  0.38890973,\n",
       "        0.6066903 ,  0.11572129, -1.0516611 , -0.03412843, -0.06895393,\n",
       "        1.4555737 , -0.503839  ,  0.40669784,  0.49713597,  0.7030181 ,\n",
       "        0.07511416, -0.32441485, -0.68701917, -0.43055293, -0.20781633,\n",
       "        0.63967735,  0.502748  , -0.12572564, -0.6870174 , -0.33542955,\n",
       "        0.05076143, -0.45723706, -0.7493687 , -0.00275186,  0.98472166,\n",
       "        0.9692949 ,  1.1202495 , -0.72777957,  0.6965764 , -0.89382833,\n",
       "       -0.52610093, -0.6638035 ,  0.45742422,  0.14490414,  1.0417706 ,\n",
       "       -0.94134617,  0.53021353,  0.2368311 , -0.4418463 , -0.14477752,\n",
       "       -0.5874874 ,  0.4801909 , -1.7274163 , -0.66611564, -0.27298602,\n",
       "       -0.14849988,  1.564152  ,  0.40314886,  0.03206887, -0.8409977 ,\n",
       "        0.17777719,  0.9736358 ,  0.6457522 ,  0.30543232, -1.137782  ,\n",
       "        1.2107016 , -0.10847739, -0.32592323,  0.13732173, -0.28421736,\n",
       "       -0.42268357,  0.61054534, -0.20807551, -0.07794475,  0.08995945,\n",
       "       -0.14269581,  0.08647595,  0.17941101,  1.4898627 ,  0.422618  ,\n",
       "       -0.5284772 , -0.4084929 ,  0.58345467, -0.26324183, -0.656542  ,\n",
       "        1.2689078 ,  0.17888327, -0.83817434, -0.26803246, -0.74349356,\n",
       "       -0.6810153 , -0.47803435, -0.21921428, -0.74469763,  1.2147181 ,\n",
       "       -0.61691624,  0.19521363,  0.94193995, -0.31550354,  0.5144489 ,\n",
       "        1.2019149 ,  0.31223008, -0.863874  , -0.19675286,  0.39247397,\n",
       "        0.21531954,  0.12295141, -0.6418624 , -0.97698367,  0.44010565,\n",
       "       -0.7524375 , -1.1238606 ,  0.92670816, -0.10753758,  0.5234611 ,\n",
       "       -0.64081305,  0.636627  ,  0.34783623,  0.00716916, -0.00899403,\n",
       "       -0.70435935,  0.8623089 ,  0.30519003, -0.7974602 , -0.43388754,\n",
       "       -0.09712026, -0.0925831 ,  0.40124467,  0.16030747, -0.48546454,\n",
       "        0.4726493 , -0.57497656,  1.2828449 ,  0.25600564,  0.15268095],\n",
       "      dtype=float32)"
      ]
     },
     "execution_count": 10,
     "metadata": {},
     "output_type": "execute_result"
    }
   ],
   "source": [
    "model_mk['мажот']"
   ]
  },
  {
   "cell_type": "code",
   "execution_count": 11,
   "metadata": {},
   "outputs": [
    {
     "data": {
      "text/plain": [
       "[('вторник', 0.851332426071167),\n",
       " ('петок', 0.8361653089523315),\n",
       " ('четврток', 0.8212425708770752),\n",
       " ('10:00', 0.7581230401992798),\n",
       " ('среда', 0.7532303333282471),\n",
       " ('8:00', 0.7406070232391357),\n",
       " ('7:00', 0.7258443832397461),\n",
       " ('11:00', 0.71864914894104),\n",
       " ('сабота', 0.7167373895645142),\n",
       " ('9:00', 0.7105333805084229)]"
      ]
     },
     "execution_count": 11,
     "metadata": {},
     "output_type": "execute_result"
    }
   ],
   "source": [
    "wv = model_mk.wv\n",
    "wv.similar_by_word('понеделник')"
   ]
  },
  {
   "cell_type": "code",
   "execution_count": 12,
   "metadata": {},
   "outputs": [],
   "source": [
    "model_mk.save('data/embeddings/mk_embeddings.bin')\n",
    "model_fi.save('data/embeddings/fi_embeddings.bin')"
   ]
  },
  {
   "cell_type": "code",
   "execution_count": null,
   "metadata": {},
   "outputs": [],
   "source": []
  }
 ],
 "metadata": {
  "kernelspec": {
   "display_name": "Python 3",
   "language": "python",
   "name": "python3"
  },
  "language_info": {
   "codemirror_mode": {
    "name": "ipython",
    "version": 3
   },
   "file_extension": ".py",
   "mimetype": "text/x-python",
   "name": "python",
   "nbconvert_exporter": "python",
   "pygments_lexer": "ipython3",
   "version": "3.6.8"
  }
 },
 "nbformat": 4,
 "nbformat_minor": 2
}
